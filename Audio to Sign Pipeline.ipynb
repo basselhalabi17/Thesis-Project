{
 "cells": [
  {
   "cell_type": "code",
   "execution_count": 1,
   "metadata": {},
   "outputs": [],
   "source": [
    "import nltk\n",
    "import os\n",
    "from nltk.stem import PorterStemmer\n",
    "from nltk.stem import LancasterStemmer\n",
    "from moviepy.editor import *\n",
    "from time import sleep"
   ]
  },
  {
   "cell_type": "code",
   "execution_count": 2,
   "metadata": {},
   "outputs": [
    {
     "name": "stderr",
     "output_type": "stream",
     "text": [
      "[nltk_data] Downloading package punkt to\n",
      "[nltk_data]     /Users/ferasawaga/nltk_data...\n",
      "[nltk_data]   Package punkt is already up-to-date!\n"
     ]
    },
    {
     "data": {
      "text/plain": [
       "True"
      ]
     },
     "execution_count": 2,
     "metadata": {},
     "output_type": "execute_result"
    }
   ],
   "source": [
    "nltk.download('punkt')\n",
    "porter = PorterStemmer()\n",
    "lancaster=LancasterStemmer()\n",
    "nltk.download('wordnet')\n",
    "nltk.download('omw-1.4')"
   ]
  },
  {
   "cell_type": "code",
   "execution_count": 15,
   "metadata": {},
   "outputs": [
    {
     "name": "stdout",
     "output_type": "stream",
     "text": [
      "Let's speak!!\n",
      "Recognizing your text.............\n",
      "Jack likes studying\n"
     ]
    }
   ],
   "source": [
    "import speech_recognition as sr\n",
    "import pyaudio\n",
    "\n",
    "init_rec = sr.Recognizer()\n",
    "print(\"Let's speak!!\")\n",
    "with sr.Microphone() as source:\n",
    "    init_rec.adjust_for_ambient_noise(source)\n",
    "    audio_data = init_rec.record(source, duration=5)\n",
    "    #audio_data = init_rec.listen(source)\n",
    "    print(\"Recognizing your text.............\")\n",
    "    text = init_rec.recognize_google(audio_data)\n",
    "    print(text)"
   ]
  },
  {
   "cell_type": "code",
   "execution_count": 16,
   "metadata": {},
   "outputs": [
    {
     "name": "stdout",
     "output_type": "stream",
     "text": [
      "Jack => Jack\n",
      "likes => like\n",
      "studying => study\n"
     ]
    }
   ],
   "source": [
    "from nltk.corpus import wordnet as wn\n",
    "from nltk.stem.wordnet import WordNetLemmatizer\n",
    "from nltk import word_tokenize, pos_tag\n",
    "from collections import defaultdict\n",
    "\n",
    "tag_map = defaultdict(lambda : wn.NOUN)\n",
    "tag_map['J'] = wn.ADJ\n",
    "tag_map['V'] = wn.VERB\n",
    "tag_map['R'] = wn.ADV\n",
    "\n",
    "#text = \"Chris loves eating pizza\"\n",
    "tokens = word_tokenize(text)\n",
    "lmtzr = WordNetLemmatizer()\n",
    "\n",
    "listword = []\n",
    "for token, tag in pos_tag(tokens):\n",
    "    lemma = lmtzr.lemmatize(token, tag_map[tag[0]])\n",
    "    print(token, \"=>\", lemma)\n",
    "    listword.append(lemma)\n",
    "    "
   ]
  },
  {
   "cell_type": "code",
   "execution_count": null,
   "metadata": {},
   "outputs": [],
   "source": [
    "temp = text.split()\n",
    "clips=[]\n",
    "for i in range(len(temp)):\n",
    "    print(temp[i].upper())\n",
    "    if listword[i].upper() in current:\n",
    "        clip = VideoFileClip(\"/Users/ferasawaga/Desktop/Thesis/Second Pipeline First Test/\"+listword[i].upper()+\".mp4\")\n",
    "        clips.append(clip)\n",
    "        \n",
    "        \n",
    "    else:\n",
    "        temp2 = list(listword[i])\n",
    "        for i in range(len(temp2)):\n",
    "            if temp2[i].upper() in current:\n",
    "                clip = VideoFileClip(\"/Users/ferasawaga/Desktop/Thesis/Second Pipeline First Test/\"+temp2[i].upper()+\".mp4\")\n",
    "                clips.append(clip)\n",
    "            else:\n",
    "                continue\n",
    "\n",
    "\n"
   ]
  },
  {
   "cell_type": "code",
   "execution_count": 19,
   "metadata": {},
   "outputs": [
    {
     "name": "stderr",
     "output_type": "stream",
     "text": [
      "t:  24%|██▍       | 52/214 [00:00<00:00, 518.99it/s, now=None]"
     ]
    },
    {
     "name": "stdout",
     "output_type": "stream",
     "text": [
      "Moviepy - Building video __temp__.mp4.\n",
      "Moviepy - Writing video __temp__.mp4\n",
      "\n"
     ]
    },
    {
     "name": "stderr",
     "output_type": "stream",
     "text": [
      "t:  18%|█▊        | 38/214 [00:00<00:00, 374.25it/s, now=None] "
     ]
    },
    {
     "name": "stdout",
     "output_type": "stream",
     "text": [
      "Moviepy - Done !\n",
      "Moviepy - video ready __temp__.mp4\n",
      "Moviepy - Building video /Users/ferasawaga/Desktop/Thesis/Second Pipeline First Test/TEST2.mp4.\n",
      "Moviepy - Writing video /Users/ferasawaga/Desktop/Thesis/Second Pipeline First Test/TEST2.mp4\n",
      "\n"
     ]
    },
    {
     "name": "stderr",
     "output_type": "stream",
     "text": [
      "                                                               "
     ]
    },
    {
     "name": "stdout",
     "output_type": "stream",
     "text": [
      "Moviepy - Done !\n",
      "Moviepy - video ready /Users/ferasawaga/Desktop/Thesis/Second Pipeline First Test/TEST2.mp4\n"
     ]
    },
    {
     "name": "stderr",
     "output_type": "stream",
     "text": [
      "\r"
     ]
    }
   ],
   "source": [
    "final = concatenate_videoclips(clips)\n",
    "final.ipython_display(width = 480)\n",
    "final.write_videofile(\"/Users/ferasawaga/Desktop/Thesis/Second Pipeline First Test/TEST2.mp4\")"
   ]
  },
  {
   "cell_type": "code",
   "execution_count": null,
   "metadata": {},
   "outputs": [],
   "source": []
  }
 ],
 "metadata": {
  "interpreter": {
   "hash": "45f246d5f12bf6c11647fbeb1e538aed0b508db8f18f1eff4a87a6825f7849ec"
  },
  "kernelspec": {
   "display_name": "Python 3 (ipykernel)",
   "language": "python",
   "name": "python3"
  },
  "language_info": {
   "codemirror_mode": {
    "name": "ipython",
    "version": 3
   },
   "file_extension": ".py",
   "mimetype": "text/x-python",
   "name": "python",
   "nbconvert_exporter": "python",
   "pygments_lexer": "ipython3",
   "version": "3.9.7"
  }
 },
 "nbformat": 4,
 "nbformat_minor": 4
}
