{
 "cells": [
  {
   "cell_type": "code",
   "execution_count": null,
   "id": "bcddf600",
   "metadata": {},
   "outputs": [],
   "source": [
    "import cv2\n",
    "import numpy as np\n",
    "import os\n",
    "from matplotlib import pyplot as plt\n",
    "import time\n",
    "import mediapipe as mp"
   ]
  },
  {
   "cell_type": "markdown",
   "id": "1f13a66b",
   "metadata": {},
   "source": [
    "## Create folders for keypoints"
   ]
  },
  {
   "cell_type": "code",
   "execution_count": null,
   "id": "0a67dcab",
   "metadata": {},
   "outputs": [],
   "source": [
    "for i in os.listdir(\"Path/to/directory/containing/videos\"):\n",
    "    os.mkdir(\"Path/to/directory/containing/keypoints/\" + i)\n",
    "    for j in os.listdir(\"Path/to/directory/containing/videos/\" + i):\n",
    "        os.mkdir(\"Path/to/directory/containing/keypoints/\" + i + \"/\" + j.split(\".\")[0])"
   ]
  },
  {
   "cell_type": "markdown",
   "id": "5ff14732",
   "metadata": {},
   "source": [
    "## Keypoints detection for every frame using mediapipe"
   ]
  },
  {
   "cell_type": "code",
   "execution_count": null,
   "id": "260dc8d0",
   "metadata": {},
   "outputs": [],
   "source": [
    "mp_holistic = mp.solutions.holistic # Holistic model\n",
    "mp_drawing = mp.solutions.drawing_utils # Drawing utilities\n",
    "def mediapipe_detection(image, model):\n",
    "    image.flags.writeable = False                  \n",
    "    results = model.process(image)                 \n",
    "    image.flags.writeable = True                   \n",
    "    image = cv2.cvtColor(image, cv2.COLOR_RGB2BGR) \n",
    "    return image, results"
   ]
  },
  {
   "cell_type": "markdown",
   "id": "79a17771",
   "metadata": {},
   "source": [
    "## Draw keypoints and connecting lines"
   ]
  },
  {
   "cell_type": "code",
   "execution_count": null,
   "id": "749cdcd5",
   "metadata": {},
   "outputs": [],
   "source": [
    "def draw_styled_landmarks(image, results):\n",
    "    # Draw left hand connections\n",
    "    mp_drawing.draw_landmarks(image, results.left_hand_landmarks, mp_holistic.HAND_CONNECTIONS, \n",
    "                             mp_drawing.DrawingSpec(color=(121,22,76), thickness=2, circle_radius=4), \n",
    "                             mp_drawing.DrawingSpec(color=(121,44,250), thickness=2, circle_radius=2)\n",
    "                             ) \n",
    "    # Draw right hand connections  \n",
    "    mp_drawing.draw_landmarks(image, results.right_hand_landmarks, mp_holistic.HAND_CONNECTIONS, \n",
    "                             mp_drawing.DrawingSpec(color=(245,117,66), thickness=2, circle_radius=4), \n",
    "                             mp_drawing.DrawingSpec(color=(245,66,230), thickness=2, circle_radius=2)\n",
    "                             ) "
   ]
  },
  {
   "cell_type": "markdown",
   "id": "f9bfc422",
   "metadata": {},
   "source": [
    "## Keypoints extraction"
   ]
  },
  {
   "cell_type": "code",
   "execution_count": null,
   "id": "405ee463",
   "metadata": {},
   "outputs": [],
   "source": [
    "def extract_keypoints(results):\n",
    "    lh = np.array([[res.x, res.y, res.z] for res in results.left_hand_landmarks.landmark]).flatten() if results.left_hand_landmarks else np.zeros(21*3)\n",
    "    rh = np.array([[res.x, res.y, res.z] for res in results.right_hand_landmarks.landmark]).flatten() if results.right_hand_landmarks else np.zeros(21*3)\n",
    "    return np.concatenate([lh, rh])"
   ]
  },
  {
   "cell_type": "markdown",
   "id": "b5b84c10",
   "metadata": {},
   "source": [
    "## Extraction process"
   ]
  },
  {
   "cell_type": "code",
   "execution_count": null,
   "id": "c17b90b6",
   "metadata": {
    "scrolled": false
   },
   "outputs": [],
   "source": [
    "for i in os.listdir(\"Path/to/directory/containing/videos\"): \n",
    "    for j in os.listdir(\"Path/to/directory/containing/videos/\" + i):\n",
    "        try:\n",
    "            cap = cv2.VideoCapture(\"Path/to/directory/containing/videos/\" + i + \"/\" + j)\n",
    "            frame_count = int(cap.get(cv2.CAP_PROP_FRAME_COUNT))\n",
    "            # Set mediapipe model \n",
    "            with mp_holistic.Holistic(min_detection_confidence=0.5, min_tracking_confidence=0.5) as holistic:\n",
    "                        # Loop through video length aka sequence length\n",
    "                for frame_num in range(30): # number of frames\n",
    "\n",
    "                    # Read feed\n",
    "                    ret, frame = cap.read()\n",
    "\n",
    "                    # Make detections\n",
    "                    image, results = mediapipe_detection(frame, holistic)\n",
    "\n",
    "                    # Draw landmarks\n",
    "                    draw_styled_landmarks(image, results)\n",
    "\n",
    "                    # NEW Export keypoints\n",
    "                    keypoints = extract_keypoints(results)\n",
    "                    npy_path = \"Path/to/directory/containing/keypoints/\" + i + \"/\" + j.split(\".\")[0] + \"/\" + str(frame_num) \n",
    "                    np.save(npy_path, keypoints)\n",
    "\n",
    "                # Break gracefully\n",
    "                if cv2.waitKey(10) & 0xFF == ord('q'):\n",
    "                    break\n",
    "\n",
    "                cap.release()\n",
    "                cv2.destroyAllWindows()\n",
    "        except Exception as err:\n",
    "            print(err)\n",
    "            print(\"Path/to/directory/containing/videos/\" + i + \"/\" + j)\n",
    "            continue"
   ]
  }
 ],
 "metadata": {
  "kernelspec": {
   "display_name": "Python 3 (ipykernel)",
   "language": "python",
   "name": "python3"
  },
  "language_info": {
   "codemirror_mode": {
    "name": "ipython",
    "version": 3
   },
   "file_extension": ".py",
   "mimetype": "text/x-python",
   "name": "python",
   "nbconvert_exporter": "python",
   "pygments_lexer": "ipython3",
   "version": "3.9.7"
  }
 },
 "nbformat": 4,
 "nbformat_minor": 5
}
