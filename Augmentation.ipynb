{
 "cells": [
  {
   "cell_type": "code",
   "execution_count": 1,
   "id": "d531a256",
   "metadata": {},
   "outputs": [],
   "source": [
    "import imgaug.augmenters as iaa\n",
    "from PIL import Image\n",
    "import cv2\n",
    "import glob\n",
    "from matplotlib import pyplot as plt\n",
    "import os\n",
    "import numpy as np\n",
    "import time"
   ]
  },
  {
   "cell_type": "markdown",
   "id": "6b664375",
   "metadata": {},
   "source": [
    "## Convert frames to video\n"
   ]
  },
  {
   "cell_type": "code",
   "execution_count": 12,
   "id": "df896459",
   "metadata": {},
   "outputs": [],
   "source": [
    "def toVideo(aug , name , fps , size):\n",
    "    out = cv2.VideoWriter(name,0, (fps), (size[1],size[0]))\n",
    "    for i in range(len(aug)):\n",
    "        out.write(aug[i][...,::-1])\n",
    "    out.release()"
   ]
  },
  {
   "cell_type": "markdown",
   "id": "e34a460f",
   "metadata": {},
   "source": [
    "## Convert video to inividual frames for augmentation"
   ]
  },
  {
   "cell_type": "code",
   "execution_count": 13,
   "id": "7c7a311a",
   "metadata": {},
   "outputs": [],
   "source": [
    "def videotoframes(video_name):    \n",
    "    frames = []\n",
    "    # Opens the Video file\n",
    "    cap= cv2.VideoCapture(video_name)\n",
    "    fps = cap.get(cv2.CAP_PROP_FPS)\n",
    "    i=0\n",
    "    while(cap.isOpened()):\n",
    "        #Read Frame\n",
    "        ret,frame = cap.read()\n",
    "        if ret == False:\n",
    "            break\n",
    "        i+=1\n",
    "        frames.append(frame[...,::-1])\n",
    "        \n",
    "    cap.release()\n",
    "    cv2.destroyAllWindows()\n",
    "    return frames ,fps"
   ]
  },
  {
   "cell_type": "markdown",
   "id": "76dd5136",
   "metadata": {},
   "source": [
    "## Augmentors used"
   ]
  },
  {
   "cell_type": "code",
   "execution_count": 14,
   "id": "62797871",
   "metadata": {},
   "outputs": [],
   "source": [
    "def returnAugemntor(index , frames):\n",
    "    augmentorList = [\n",
    "        iaa.Affine(rotate=(10,10))(images=frames),\n",
    "        iaa.Affine(rotate=(15,15))(images=frames),\n",
    "        iaa.Affine(rotate=(-15,-15))(images=frames),\n",
    "        iaa.Affine(rotate=(-10,-10))(images=frames),\n",
    "        iaa.Affine(rotate=(20,20))(images=frames),\n",
    "        iaa.Affine(rotate=(-20,-20))(images=frames),\n",
    "        iaa.Affine(rotate=(30,30))(images=frames),\n",
    "        iaa.Affine(rotate=(-30,-30))(images=frames),\n",
    "        iaa.Affine(rotate=(40,40))(images=frames),\n",
    "        iaa.Affine(rotate=(-40,-40))(images=frames)\n",
    "        ]\n",
    "    return augmentorList[index]"
   ]
  },
  {
   "cell_type": "markdown",
   "id": "04de2fd0",
   "metadata": {},
   "source": [
    "## Augmentation script"
   ]
  },
  {
   "cell_type": "code",
   "execution_count": 15,
   "id": "86017418",
   "metadata": {},
   "outputs": [],
   "source": [
    "#Augmentation\n",
    "directory = \"Path/to/directory/containing/videos\" \n",
    "LL = os.listdir(directory)\n",
    "\n",
    "for foldername in LL:\n",
    "    LL_NEW= os.listdir(directory+'/'+foldername)\n",
    "    count = len(LL_NEW)  \n",
    "    for augment in range(10):\n",
    "        for filename in LL_NEW: \n",
    "            if  '_' not in filename:\n",
    "                if count == 150:                     #We specified 150 Maximum Videos for a class\n",
    "                    break\n",
    "                else:\n",
    "                    frames , fps = videotoframes(directory + '/' + foldername + '/' + filename)\n",
    "                    size = frames[0].shape\n",
    "                    aug = returnAugemntor(augment , frames)\n",
    "                    name = directory + '/' + foldername + '/' + filename.split(\".\")[0]+\"_\" + str(count)+\".mp4\"\n",
    "                    toVideo(aug , name , fps , size)\n",
    "                    count+=1"
   ]
  }
 ],
 "metadata": {
  "kernelspec": {
   "display_name": "Python 3 (ipykernel)",
   "language": "python",
   "name": "python3"
  },
  "language_info": {
   "codemirror_mode": {
    "name": "ipython",
    "version": 3
   },
   "file_extension": ".py",
   "mimetype": "text/x-python",
   "name": "python",
   "nbconvert_exporter": "python",
   "pygments_lexer": "ipython3",
   "version": "3.9.7"
  }
 },
 "nbformat": 4,
 "nbformat_minor": 5
}
