{
 "cells": [
  {
   "cell_type": "code",
   "execution_count": 2,
   "metadata": {},
   "outputs": [],
   "source": [
    "import cv2\n",
    "from moviepy.editor import *\n",
    "import moviepy\n",
    "import numpy as np\n",
    "import os\n",
    "from matplotlib import pyplot as plt\n",
    "import time\n",
    "import mediapipe as mp"
   ]
  },
  {
   "cell_type": "markdown",
   "metadata": {},
   "source": [
    "## Defining dimensions"
   ]
  },
  {
   "cell_type": "code",
   "execution_count": 9,
   "metadata": {},
   "outputs": [],
   "source": [
    "min_height = 280\n",
    "min_width = 520\n",
    "max_width = 720\n",
    "max_height = 420"
   ]
  },
  {
   "cell_type": "code",
   "execution_count": 10,
   "metadata": {},
   "outputs": [],
   "source": [
    "for i in os.listdir(\"Path/To/Videos\"):\n",
    "    os.mkdir(\"Path/To/ResizedVideos/\" + i)"
   ]
  },
  {
   "cell_type": "markdown",
   "metadata": {},
   "source": [
    "## Resizing and normalization"
   ]
  },
  {
   "cell_type": "code",
   "execution_count": null,
   "metadata": {},
   "outputs": [],
   "source": [
    "count = 9000\n",
    "filenames = os.listdir(\"Path/To/Videos\")\n",
    "for filename in filenames:\n",
    "    for i in os.listdir(\"Path/To/Videos/\" + filename):\n",
    "        try:\n",
    "            clip = VideoFileClip(\"Path/To/Videos/\" + filename + \"/\" + i)\n",
    "            clip_size = []\n",
    "            clip_size.append(clip.size[0])\n",
    "            clip_size.append(clip.size[1])\n",
    "            if clip_size[0]<min_width:\n",
    "                clip_size[0] = min_width\n",
    "                clip_size[1] = min_height\n",
    "            elif clip_size[0] > max_width: \n",
    "                clip_size[0] = max_width\n",
    "                clip_size[1] = max_height\n",
    "            if clip_size[1]<min_height:\n",
    "                clip_size[1] = min_height\n",
    "                clip_size[0] = min_width\n",
    "            elif clip_size[1] > max_height: \n",
    "                clip_size[1] = max_height   \n",
    "                clip_size[0] = max_width\n",
    "        except:\n",
    "            pass\n",
    "        \n",
    "        x = clip.resize((clip_size[0],clip_size[1])).write_videofile(\"Path/To/ResizedVideos/\" + filename + \"/\" + str(count) + \".mp4\" , fps = 30/clip.duration)\n",
    "        count+=1 "
   ]
  },
  {
   "cell_type": "markdown",
   "metadata": {},
   "source": [
    "## Renaming"
   ]
  },
  {
   "cell_type": "code",
   "execution_count": 20,
   "metadata": {},
   "outputs": [],
   "source": [
    "count = 100000\n",
    "filenames = os.listdir(\"Path/To/ResizedVideos\")\n",
    "for filename in filenames:\n",
    "    for i in os.listdir(\"Path/To/ResizedVideos/\" + filename):\n",
    "        count+=1\n",
    "        new_name = \"Path/To/ResizedVideos/\" + filename + \"/\" + str(count)  + \".mp4\" \n",
    "        old_name = \"Path/To/ResizedVideos/\" + filename + \"/\" + i\n",
    "        os.rename(old_name , new_name)"
   ]
  }
 ],
 "metadata": {
  "kernelspec": {
   "display_name": "Python 3 (ipykernel)",
   "language": "python",
   "name": "python3"
  },
  "language_info": {
   "codemirror_mode": {
    "name": "ipython",
    "version": 3
   },
   "file_extension": ".py",
   "mimetype": "text/x-python",
   "name": "python",
   "nbconvert_exporter": "python",
   "pygments_lexer": "ipython3",
   "version": "3.9.7"
  }
 },
 "nbformat": 4,
 "nbformat_minor": 4
}
